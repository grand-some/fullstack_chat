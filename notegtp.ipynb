{
 "cells": [
  {
   "cell_type": "code",
   "execution_count": 1,
   "id": "c7a57763",
   "metadata": {},
   "outputs": [
    {
     "name": "stderr",
     "output_type": "stream",
     "text": [
      "C:\\Users\\kwon\\AppData\\Local\\Temp\\ipykernel_28156\\1472154584.py:96: LangChainDeprecationWarning: LangChain agents will continue to be supported, but it is recommended for new use cases to be built with LangGraph. LangGraph offers a more flexible and full-featured framework for building agents, including support for tool-calling, persistence of state, and human-in-the-loop workflows. For details, refer to the `LangGraph documentation <https://langchain-ai.github.io/langgraph/>`_ as well as guides for `Migrating from AgentExecutor <https://python.langchain.com/docs/how_to/migrate_agent/>`_ and LangGraph's `Pre-built ReAct agent <https://langchain-ai.github.io/langgraph/how-tos/create-react-agent/>`_.\n",
      "  agent = initialize_agent(\n"
     ]
    },
    {
     "name": "stdout",
     "output_type": "stream",
     "text": [
      "\n",
      "\n",
      "\u001b[1m> Entering new AgentExecutor chain...\u001b[0m\n",
      "\u001b[32;1m\u001b[1;3m\n",
      "Invoking: `DuckDuckGoSearchTool` with `{'query': 'XZ backdoor'}`\n",
      "\n",
      "\n",
      "\u001b[0m"
     ]
    },
    {
     "name": "stderr",
     "output_type": "stream",
     "text": [
      "c:\\Users\\kwon\\AppData\\Local\\pypoetry\\Cache\\virtualenvs\\langchain-kr--P7Goz9u-py3.11\\Lib\\site-packages\\langchain_community\\utilities\\duckduckgo_search.py:63: RuntimeWarning: This package (`duckduckgo_search`) has been renamed to `ddgs`! Use `pip install ddgs` instead.\n",
      "  with DDGS() as ddgs:\n"
     ]
    },
    {
     "name": "stdout",
     "output_type": "stream",
     "text": [
      "\u001b[33;1m\u001b[1;3mIn February 2024, a malicious backdoor was introduced to the Linux build of the xz utility within the liblzma library in versions 5.6.0 and … Apr 1, 2024 · One of the core techniques used by the XZ backdoor to gain initial control during execution is the GNU Indirect Function (ifunc) … Apr 1, 2024 · CVE-2024-3094는 수많은 Linux 머신에 영향을 줄 수 있는 XZ Utils의 백도어입니다. 이에 대한 중요한 정보와 방어 단계를 공유합니다. Jun 4, 2024 · 본 문서에서는 리눅스 생태계의 보안에 영향을 미치고 있는 XZ Utils 백도어 사건을 유발하는 CVE-2024-3094의 공격방식과 백도어에 대한 분석을 통해 취약점의 영향도와 대응방안을 … XZ Utils 버전 5.6.0 (2월 24일 출시)과 5.6.1 (3월 9일 출시)에 무단 원격 접근을 허용하도록 설계된 악성코드를 추가해 백도어가 설치되어 배포되었습니다.\u001b[0m\u001b[32;1m\u001b[1;3mThe XZ backdoor refers to a malicious backdoor that was introduced into the Linux build of the xz utility within the liblzma library in versions 5.6.0 and later. This backdoor was identified by the CVE identifier CVE-2024-3094 and has the potential to affect numerous Linux machines.\n",
      "\n",
      "One of the core techniques used by the XZ backdoor to gain initial control during execution is the GNU Indirect Function (ifunc). This backdoor was included in the releases of XZ Utils version 5.6.0, which was released on February 24, and version 5.6.1, which was released on March 9. The malicious code was designed to allow unauthorized remote access.\n",
      "\n",
      "For more detailed information and defensive measures regarding this backdoor, further research and analysis would be necessary to understand the impact of the vulnerability and the appropriate response strategies.\u001b[0m\n",
      "\n",
      "\u001b[1m> Finished chain.\u001b[0m\n"
     ]
    },
    {
     "data": {
      "text/plain": [
       "{'input': 'Research about the XZ backdoor',\n",
       " 'output': 'The XZ backdoor refers to a malicious backdoor that was introduced into the Linux build of the xz utility within the liblzma library in versions 5.6.0 and later. This backdoor was identified by the CVE identifier CVE-2024-3094 and has the potential to affect numerous Linux machines.\\n\\nOne of the core techniques used by the XZ backdoor to gain initial control during execution is the GNU Indirect Function (ifunc). This backdoor was included in the releases of XZ Utils version 5.6.0, which was released on February 24, and version 5.6.1, which was released on March 9. The malicious code was designed to allow unauthorized remote access.\\n\\nFor more detailed information and defensive measures regarding this backdoor, further research and analysis would be necessary to understand the impact of the vulnerability and the appropriate response strategies.'}"
      ]
     },
     "execution_count": 1,
     "metadata": {},
     "output_type": "execute_result"
    }
   ],
   "source": [
    "# !pip install langchain openai duckduckgo-search wikipedia beautifulsoup4 requests\n",
    "\n",
    "import requests\n",
    "from bs4 import BeautifulSoup\n",
    "from typing import Type\n",
    "from langchain_openai import ChatOpenAI\n",
    "from langchain.tools import BaseTool\n",
    "from langchain.agents import initialize_agent, AgentType\n",
    "from langchain.utilities import DuckDuckGoSearchAPIWrapper, WikipediaAPIWrapper\n",
    "from pydantic import BaseModel, Field\n",
    "import os\n",
    "\n",
    "# --- LLM 설정 ---\n",
    "llm = ChatOpenAI(temperature=0.1, model_name=\"gpt-4-1106-preview\")\n",
    "\n",
    "# --- Wikipedia 검색 도구 ---\n",
    "class WikipediaSearchArgs(BaseModel):\n",
    "    query: str = Field(description=\"Search term for Wikipedia\")\n",
    "\n",
    "class WikipediaSearchTool(BaseTool):\n",
    "    name: str = \"WikipediaSearchTool\"\n",
    "    description: str = \"Search for information on Wikipedia.\"\n",
    "    args_schema: Type[WikipediaSearchArgs] = WikipediaSearchArgs\n",
    "\n",
    "    def _run(self, query: str) -> str:\n",
    "        wiki = WikipediaAPIWrapper()\n",
    "        return wiki.run(query)\n",
    "\n",
    "    def _arun(self, query: str):\n",
    "        raise NotImplementedError(\"Async not implemented\")\n",
    "\n",
    "# --- DuckDuckGo 검색 도구 ---\n",
    "class DuckDuckGoSearchArgs(BaseModel):\n",
    "    query: str = Field(description=\"Search query for DuckDuckGo\")\n",
    "\n",
    "class DuckDuckGoSearchTool(BaseTool):\n",
    "    name: str = \"DuckDuckGoSearchTool\"\n",
    "    description: str = \"Search for web pages using DuckDuckGo.\"\n",
    "    args_schema: Type[DuckDuckGoSearchArgs] = DuckDuckGoSearchArgs\n",
    "\n",
    "    def _run(self, query: str) -> str:\n",
    "        ddg = DuckDuckGoSearchAPIWrapper()\n",
    "        return ddg.run(query)\n",
    "\n",
    "    def _arun(self, query: str):\n",
    "        raise NotImplementedError(\"Async not implemented\")\n",
    "\n",
    "# --- 웹 스크래핑 도구 ---\n",
    "class WebScraperArgs(BaseModel):\n",
    "    url: str = Field(description=\"The URL of the website to scrape\")\n",
    "\n",
    "class WebScraperTool(BaseTool):\n",
    "    name: str = \"WebScraperTool\"\n",
    "    description: str = \"Fetch and extract main text content from a webpage\"\n",
    "    args_schema: Type[WebScraperArgs] = WebScraperArgs\n",
    "\n",
    "    def _run(self, url: str) -> str:\n",
    "        try:\n",
    "            response = requests.get(url, timeout=10)\n",
    "            soup = BeautifulSoup(response.text, \"html.parser\")\n",
    "            paragraphs = [p.get_text() for p in soup.find_all(\"p\")]\n",
    "            text = \"\\n\".join(paragraphs[:20])  # 앞부분 20개 문단만 추출\n",
    "            return text if text else \"No readable content found.\"\n",
    "        except Exception as e:\n",
    "            return f\"Error scraping {url}: {str(e)}\"\n",
    "\n",
    "    def _arun(self, url: str):\n",
    "        raise NotImplementedError(\"Async not implemented\")\n",
    "\n",
    "# --- 결과 저장 도구 ---\n",
    "class SaveToFileArgs(BaseModel):\n",
    "    content: str = Field(description=\"The research content to save\")\n",
    "    filename: str = Field(description=\"Filename to save the research\", default=\"research_result.txt\")\n",
    "\n",
    "class SaveToFileTool(BaseTool):\n",
    "    name: str = \"SaveToFileTool\"\n",
    "    description: str = \"Save research content into a .txt file\"\n",
    "    args_schema: Type[SaveToFileArgs] = SaveToFileArgs\n",
    "\n",
    "    def _run(self, content: str, filename: str = \"research_result.txt\") -> str:\n",
    "        with open(filename, \"w\", encoding=\"utf-8\") as f:\n",
    "            f.write(content)\n",
    "        return f\"Research saved to {filename}\"\n",
    "\n",
    "    def _arun(self, content: str, filename: str = \"research_result.txt\"):\n",
    "        raise NotImplementedError(\"Async not implemented\")\n",
    "\n",
    "# --- 에이전트 초기화 ---\n",
    "tools = [\n",
    "    WikipediaSearchTool(),\n",
    "    DuckDuckGoSearchTool(),\n",
    "    WebScraperTool(),\n",
    "    SaveToFileTool(),\n",
    "]\n",
    "\n",
    "agent = initialize_agent(\n",
    "    tools=tools,\n",
    "    llm=llm,\n",
    "    agent=AgentType.OPENAI_FUNCTIONS,\n",
    "    verbose=True,\n",
    "    handle_parsing_errors=True\n",
    ")\n",
    "\n",
    "# --- 실행 ---\n",
    "query = \"Research about the XZ backdoor\"\n",
    "agent.invoke(query)\n"
   ]
  }
 ],
 "metadata": {
  "kernelspec": {
   "display_name": "langchain-kr--P7Goz9u-py3.11",
   "language": "python",
   "name": "python3"
  },
  "language_info": {
   "codemirror_mode": {
    "name": "ipython",
    "version": 3
   },
   "file_extension": ".py",
   "mimetype": "text/x-python",
   "name": "python",
   "nbconvert_exporter": "python",
   "pygments_lexer": "ipython3",
   "version": "3.11.9"
  }
 },
 "nbformat": 4,
 "nbformat_minor": 5
}
