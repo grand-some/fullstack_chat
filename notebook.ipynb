{
 "cells": [
  {
   "cell_type": "code",
   "execution_count": 47,
   "id": "74de829b",
   "metadata": {},
   "outputs": [],
   "source": [
    "\n",
    "from langchain.memory import ConversationSummaryBufferMemory, ConversationBufferMemory\n",
    "from langchain.chat_models import ChatOpenAI\n",
    "from langchain.prompts.few_shot import FewShotChatMessagePromptTemplate\n",
    "from langchain.prompts.chat import ChatPromptTemplate, ChatMessagePromptTemplate, MessagesPlaceholder\n",
    "from langchain.schema.runnable import RunnablePassthrough\n",
    "\n",
    "# 예시들\n",
    "examples = [\n",
    "    {\"movie\": \"타이타닉\", \n",
    "     \"answer\": \"🎻🚢💔\"},\n",
    "    {\"movie\": \"러브스토리\", \n",
    "     \"answer\": \"💑🎶😭\"},\n",
    "     \n",
    "]\n",
    "\n",
    "# LLM 설정\n",
    "llm = ChatOpenAI(temperature=0.1)\n",
    "\n",
    "# 대화 요약 기반 메모리\n",
    "memory = ConversationBufferMemory(\n",
    "    # llm=llm,\n",
    "    # max_token_limit=300,\n",
    "    return_messages=True,\n",
    ")\n",
    "\n",
    "\n",
    "example_prompt = ChatPromptTemplate.from_messages([\n",
    "    (\"human\", \"영화제목 {movie}를 3개의 이모티콘으로 표현하면?\"),\n",
    "    (\"ai\", \"{answer}\"),\n",
    "])\n",
    "\n",
    "# FewShot 프롬프트 템플릿\n",
    "few_shot_prompt = FewShotChatMessagePromptTemplate(\n",
    "    example_prompt=example_prompt,\n",
    "    examples=examples,\n",
    ")\n",
    "\n",
    "# 전체 Prompt 구성\n",
    "prompt = ChatPromptTemplate.from_messages([\n",
    "    (\"system\", \"당신은 영화제목을 보고 3개의 이모티콘으로 표현해주는 마법사이며, 사용자가 과거에 질문한 내용을 기억해서 대답하는 경우에는 자연어로 대답할 수도 있어요.\"),\n",
    "    few_shot_prompt, \n",
    "    MessagesPlaceholder(variable_name=\"history\"), \n",
    "    (\"human\", \"{question}\"),\n",
    "])\n",
    "\n",
    "# 메모리 불러오는 함수\n",
    "def load_memory(_):\n",
    "    return memory.load_memory_variables({})[\"history\"]\n",
    "\n",
    "# 체인 구성\n",
    "chain = RunnablePassthrough.assign(history=load_memory) | prompt | llm\n",
    "\n",
    "# 호출 함수\n",
    "def invoke_chain(question):\n",
    "    result = chain.invoke({\"question\": question})\n",
    "    memory.save_context({\"input\": question}, {\"output\": result.content})\n",
    "    print(result.content)\n",
    "       \n",
    "    print(\"\\n=== 저장된 메모리 요약 ===\")\n",
    "    print(memory.load_memory_variables({})[\"history\"])\n"
   ]
  },
  {
   "cell_type": "code",
   "execution_count": 48,
   "id": "4a28d317",
   "metadata": {},
   "outputs": [
    {
     "name": "stdout",
     "output_type": "stream",
     "text": [
      "🏠🐜💰\n",
      "\n",
      "=== 저장된 메모리 요약 ===\n",
      "[HumanMessage(content='기생충', additional_kwargs={}, response_metadata={}), AIMessage(content='🏠🐜💰', additional_kwargs={}, response_metadata={})]\n"
     ]
    }
   ],
   "source": [
    "invoke_chain(\"기생충\")"
   ]
  },
  {
   "cell_type": "code",
   "execution_count": 49,
   "id": "7fcb270f",
   "metadata": {},
   "outputs": [
    {
     "name": "stdout",
     "output_type": "stream",
     "text": [
      "🔫💰🇮🇹\n",
      "\n",
      "=== 저장된 메모리 요약 ===\n",
      "[HumanMessage(content='기생충', additional_kwargs={}, response_metadata={}), AIMessage(content='🏠🐜💰', additional_kwargs={}, response_metadata={}), HumanMessage(content='대부', additional_kwargs={}, response_metadata={}), AIMessage(content='🔫💰🇮🇹', additional_kwargs={}, response_metadata={})]\n"
     ]
    }
   ],
   "source": [
    "invoke_chain(\"대부\")"
   ]
  },
  {
   "cell_type": "code",
   "execution_count": 50,
   "id": "e323b3c4",
   "metadata": {},
   "outputs": [
    {
     "name": "stdout",
     "output_type": "stream",
     "text": [
      "\"대부\"와 \"기생충\"입니다.\n",
      "\n",
      "=== 저장된 메모리 요약 ===\n",
      "[HumanMessage(content='기생충', additional_kwargs={}, response_metadata={}), AIMessage(content='🏠🐜💰', additional_kwargs={}, response_metadata={}), HumanMessage(content='대부', additional_kwargs={}, response_metadata={}), AIMessage(content='🔫💰🇮🇹', additional_kwargs={}, response_metadata={}), HumanMessage(content='내가 질문한 영화제목을 마지막 두개만 알려줘', additional_kwargs={}, response_metadata={}), AIMessage(content='\"대부\"와 \"기생충\"입니다.', additional_kwargs={}, response_metadata={})]\n"
     ]
    }
   ],
   "source": [
    "invoke_chain(\"내가 질문한 영화제목을 마지막 두개만 알려줘\")"
   ]
  },
  {
   "cell_type": "code",
   "execution_count": null,
   "id": "b6f76a79",
   "metadata": {},
   "outputs": [],
   "source": []
  }
 ],
 "metadata": {
  "kernelspec": {
   "display_name": "langchain-kr--P7Goz9u-py3.11",
   "language": "python",
   "name": "python3"
  },
  "language_info": {
   "codemirror_mode": {
    "name": "ipython",
    "version": 3
   },
   "file_extension": ".py",
   "mimetype": "text/x-python",
   "name": "python",
   "nbconvert_exporter": "python",
   "pygments_lexer": "ipython3",
   "version": "3.11.9"
  }
 },
 "nbformat": 4,
 "nbformat_minor": 5
}
